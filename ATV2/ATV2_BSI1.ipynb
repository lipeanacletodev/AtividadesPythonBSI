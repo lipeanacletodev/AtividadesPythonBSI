{
  "nbformat": 4,
  "nbformat_minor": 0,
  "metadata": {
    "colab": {
      "provenance": [],
      "authorship_tag": "ABX9TyOQF0QmICBdeWQ72g/upg3l",
      "include_colab_link": true
    },
    "kernelspec": {
      "name": "python3",
      "display_name": "Python 3"
    },
    "language_info": {
      "name": "python"
    }
  },
  "cells": [
    {
      "cell_type": "markdown",
      "metadata": {
        "id": "view-in-github",
        "colab_type": "text"
      },
      "source": [
        "<a href=\"https://colab.research.google.com/github/lipeanacletodev/AtividadesPythonBSI/blob/main/ATV2_BSI1.ipynb\" target=\"_parent\"><img src=\"https://colab.research.google.com/assets/colab-badge.svg\" alt=\"Open In Colab\"/></a>"
      ]
    },
    {
      "cell_type": "markdown",
      "source": [
        "1 - Fazer um algoritmo para ler o valor do lado de um quadrado e mostrar sua área\n",
        "( lado²\n",
        ") e seu perímetro ( 4 x lado )."
      ],
      "metadata": {
        "id": "S7Hp2N-wEfw1"
      }
    },
    {
      "cell_type": "code",
      "execution_count": null,
      "metadata": {
        "id": "If4cRp8VDWZR"
      },
      "outputs": [],
      "source": [
        "lado = int(input(\"Digita o tamanho do lado do quadrado: \"))\n",
        "print(f\"Sua área é de: {lado ** 2}\" )\n",
        "print(f\"Seu perimetro é de: {lado * 4}\")"
      ]
    },
    {
      "cell_type": "markdown",
      "source": [
        "2 - Elaborar um algoritmo para ler o nome e a quantidade de filhos de uma pessoa.\n",
        "Mostrar a mensagem: “Fulano tem 5 filhos.”"
      ],
      "metadata": {
        "id": "NTdU_HxrF1yO"
      }
    },
    {
      "cell_type": "code",
      "source": [
        "nome = input(\"Digite seu nome: \")\n",
        "qtdfilhos = int(input(\"Digite quantos você tem: \"))\n",
        "print(f\"{nome} tem {qtdfilhos} filhos\")"
      ],
      "metadata": {
        "id": "Yqws6OTAGgCp"
      },
      "execution_count": null,
      "outputs": []
    },
    {
      "cell_type": "markdown",
      "source": [
        "3 - Fazer um algoritmo para ler os valores da base e altura de um retângulo e mostrar\n",
        "seu perímetro ( 2 x ( base + altura ) ) e sua área ( base x altura )."
      ],
      "metadata": {
        "id": "kRrqCKvOHtM9"
      }
    },
    {
      "cell_type": "code",
      "source": [
        "base = int(input(\"Digite o valor da base do retângulo: \"))\n",
        "altura = int(input(\"Digite o valor da altura do retângulo: \"))\n",
        "perimetro = 2 * (base+altura)\n",
        "area = base*altura\n",
        "print(f\"Sua base é de {base} e sua altura é de {altura}\")"
      ],
      "metadata": {
        "id": "9GdfZAxTHscU"
      },
      "execution_count": null,
      "outputs": []
    },
    {
      "cell_type": "markdown",
      "source": [
        "4 - Fazer um algoritmo para ler o valor do lado de um cubo e\n",
        "mostrar sua área (6 x lado²) e seu volume ( lado³\n",
        ")."
      ],
      "metadata": {
        "id": "X2ydz8rhINEe"
      }
    },
    {
      "cell_type": "code",
      "source": [
        "lado = int(input(\"Digite o valor do lado do cubo: \"))\n",
        "area = 6*lado**2\n",
        "volume = lado**3\n",
        "print(f\"sua area é de {area} e seu volume é de {volume}\")"
      ],
      "metadata": {
        "id": "L5eVN8wfIa1z"
      },
      "execution_count": null,
      "outputs": []
    },
    {
      "cell_type": "markdown",
      "source": [
        "5 - Elaborar um algoritmo para ler dois números e mostrar o quociente e o resto da\n",
        "divisão inteira do primeiro pelo segundo número."
      ],
      "metadata": {
        "id": "9WhNqpDWI7ig"
      }
    },
    {
      "cell_type": "code",
      "source": [
        "n1 = int(input(\"Digite um número: \"))\n",
        "n2 = int(input(\"Digite outro número: \"))\n",
        "print(f\"O quociente é de {n1/n2} e o resto da divisão é de {n1%n2}\")"
      ],
      "metadata": {
        "id": "y8GuUK1wI9yM"
      },
      "execution_count": null,
      "outputs": []
    },
    {
      "cell_type": "markdown",
      "source": [
        "6 - Criar um algoritmo para ler a base e a altura de um triângulo e\n",
        "mostrar a sua área ( ( base x altura ) / 2 )."
      ],
      "metadata": {
        "id": "dgqU8pJyKCfp"
      }
    },
    {
      "cell_type": "code",
      "source": [
        "base = int(input(\"Digite a base do triangulo: \"))\n",
        "area = int(input(\"Digite a altura do triangulo: \"))\n",
        "print(f\"A área desse triangulo é de {(base*altura)/2}\")"
      ],
      "metadata": {
        "id": "Db4z4fQEKEiq"
      },
      "execution_count": null,
      "outputs": []
    },
    {
      "cell_type": "markdown",
      "source": [
        "7 - Construir um algoritmo para ler o raio de uma circunferência e\n",
        "mostrar o perímetro ( 2 x π x raio ) e a área ( π x raio²)."
      ],
      "metadata": {
        "id": "BcDHshUDLB0j"
      }
    },
    {
      "cell_type": "code",
      "source": [
        "import math\n",
        "raio = int(input(\"Digite o raio da circunferência: \"))\n",
        "perimetro = 2*math.pi*raio\n",
        "area = math.pi*raio**2\n",
        "print(f\"O perimetro desta circunferência é de {perimetro :.2f}, e a area é de  {area :.2f}\") "
      ],
      "metadata": {
        "id": "0L0t0yxFLUnp"
      },
      "execution_count": null,
      "outputs": []
    }
  ]
}